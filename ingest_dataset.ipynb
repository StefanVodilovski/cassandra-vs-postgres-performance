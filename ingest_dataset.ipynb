{
 "cells": [
  {
   "cell_type": "code",
   "execution_count": 1,
   "id": "a42187cd",
   "metadata": {},
   "outputs": [
    {
     "name": "stdout",
     "output_type": "stream",
     "text": [
      "Note: you may need to restart the kernel to use updated packages.\n"
     ]
    },
    {
     "name": "stderr",
     "output_type": "stream",
     "text": [
      "c:\\Users\\vodil\\OneDrive\\Desktop\\project learning\\nestrukturirani_bazi\\.venv\\Scripts\\python.exe: No module named pip\n"
     ]
    }
   ],
   "source": [
    "%pip install cassandra-driver[pure]"
   ]
  },
  {
   "cell_type": "code",
   "execution_count": 4,
   "id": "083873ff",
   "metadata": {},
   "outputs": [
    {
     "name": "stdout",
     "output_type": "stream",
     "text": [
      "Collecting kagglehub\n",
      "  Using cached kagglehub-0.3.12-py3-none-any.whl.metadata (38 kB)\n",
      "Requirement already satisfied: packaging in c:\\users\\vodil\\onedrive\\desktop\\project learning\\nestrukturirani_bazi\\.venv\\lib\\site-packages (from kagglehub) (25.0)\n",
      "Collecting pyyaml (from kagglehub)\n",
      "  Using cached PyYAML-6.0.2-cp310-cp310-win_amd64.whl.metadata (2.1 kB)\n",
      "Collecting requests (from kagglehub)\n",
      "  Downloading requests-2.32.4-py3-none-any.whl.metadata (4.9 kB)\n",
      "Collecting tqdm (from kagglehub)\n",
      "  Using cached tqdm-4.67.1-py3-none-any.whl.metadata (57 kB)\n",
      "Collecting charset_normalizer<4,>=2 (from requests->kagglehub)\n",
      "  Using cached charset_normalizer-3.4.2-cp310-cp310-win_amd64.whl.metadata (36 kB)\n",
      "Collecting idna<4,>=2.5 (from requests->kagglehub)\n",
      "  Using cached idna-3.10-py3-none-any.whl.metadata (10 kB)\n",
      "Collecting urllib3<3,>=1.21.1 (from requests->kagglehub)\n",
      "  Using cached urllib3-2.4.0-py3-none-any.whl.metadata (6.5 kB)\n",
      "Collecting certifi>=2017.4.17 (from requests->kagglehub)\n",
      "  Using cached certifi-2025.4.26-py3-none-any.whl.metadata (2.5 kB)\n",
      "Requirement already satisfied: colorama in c:\\users\\vodil\\onedrive\\desktop\\project learning\\nestrukturirani_bazi\\.venv\\lib\\site-packages (from tqdm->kagglehub) (0.4.6)\n",
      "Using cached kagglehub-0.3.12-py3-none-any.whl (67 kB)\n",
      "Using cached PyYAML-6.0.2-cp310-cp310-win_amd64.whl (161 kB)\n",
      "Downloading requests-2.32.4-py3-none-any.whl (64 kB)\n",
      "Using cached charset_normalizer-3.4.2-cp310-cp310-win_amd64.whl (105 kB)\n",
      "Using cached idna-3.10-py3-none-any.whl (70 kB)\n",
      "Using cached urllib3-2.4.0-py3-none-any.whl (128 kB)\n",
      "Using cached certifi-2025.4.26-py3-none-any.whl (159 kB)\n",
      "Using cached tqdm-4.67.1-py3-none-any.whl (78 kB)\n",
      "Installing collected packages: urllib3, tqdm, pyyaml, idna, charset_normalizer, certifi, requests, kagglehub\n",
      "\n",
      "   ---------------------------------------- 0/8 [urllib3]\n",
      "   ---------------------------------------- 0/8 [urllib3]\n",
      "   ---------------------------------------- 0/8 [urllib3]\n",
      "   ----- ---------------------------------- 1/8 [tqdm]\n",
      "   ----- ---------------------------------- 1/8 [tqdm]\n",
      "   ----- ---------------------------------- 1/8 [tqdm]\n",
      "   ---------- ----------------------------- 2/8 [pyyaml]\n",
      "   ---------- ----------------------------- 2/8 [pyyaml]\n",
      "   ---------- ----------------------------- 2/8 [pyyaml]\n",
      "   --------------- ------------------------ 3/8 [idna]\n",
      "   -------------------- ------------------- 4/8 [charset_normalizer]\n",
      "   ------------------------- -------------- 5/8 [certifi]\n",
      "   ------------------------------ --------- 6/8 [requests]\n",
      "   ------------------------------ --------- 6/8 [requests]\n",
      "   ----------------------------------- ---- 7/8 [kagglehub]\n",
      "   ----------------------------------- ---- 7/8 [kagglehub]\n",
      "   ----------------------------------- ---- 7/8 [kagglehub]\n",
      "   ---------------------------------------- 8/8 [kagglehub]\n",
      "\n",
      "Successfully installed certifi-2025.4.26 charset_normalizer-3.4.2 idna-3.10 kagglehub-0.3.12 pyyaml-6.0.2 requests-2.32.4 tqdm-4.67.1 urllib3-2.4.0\n",
      "Note: you may need to restart the kernel to use updated packages.\n"
     ]
    }
   ],
   "source": [
    "%pip install -U kagglehub"
   ]
  },
  {
   "cell_type": "code",
   "execution_count": 2,
   "id": "880c84d5",
   "metadata": {},
   "outputs": [
    {
     "name": "stdout",
     "output_type": "stream",
     "text": [
      "^C\n",
      "Note: you may need to restart the kernel to use updated packages.\n"
     ]
    },
    {
     "name": "stdout",
     "output_type": "stream",
     "text": [
      "Collecting pandas\n",
      "  Downloading pandas-2.3.0-cp310-cp310-win_amd64.whl (11.1 MB)\n",
      "     ---------------------------------------- 11.1/11.1 MB 6.1 MB/s eta 0:00:00\n",
      "Collecting pytz>=2020.1\n",
      "  Downloading pytz-2025.2-py2.py3-none-any.whl (509 kB)\n",
      "     -------------------------------------- 509.2/509.2 KB 6.4 MB/s eta 0:00:00\n",
      "Collecting python-dateutil>=2.8.2\n",
      "  Using cached python_dateutil-2.9.0.post0-py2.py3-none-any.whl (229 kB)\n",
      "Collecting numpy>=1.22.4\n",
      "  Downloading numpy-2.2.6-cp310-cp310-win_amd64.whl (12.9 MB)\n",
      "     ---------------------------------------- 12.9/12.9 MB 6.2 MB/s eta 0:00:00\n",
      "Collecting tzdata>=2022.7\n",
      "  Downloading tzdata-2025.2-py2.py3-none-any.whl (347 kB)\n",
      "     -------------------------------------- 347.8/347.8 KB 5.4 MB/s eta 0:00:00\n",
      "Collecting six>=1.5\n",
      "  Using cached six-1.17.0-py2.py3-none-any.whl (11 kB)\n",
      "Installing collected packages: pytz, tzdata, six, numpy, python-dateutil, pandas\n",
      "Successfully installed numpy-2.2.6 pandas-2.3.0 python-dateutil-2.9.0.post0 pytz-2025.2 six-1.17.0 tzdata-2025.2\n"
     ]
    },
    {
     "name": "stderr",
     "output_type": "stream",
     "text": [
      "WARNING: Error parsing requirements for pip: [Errno 2] No such file or directory: 'c:\\\\users\\\\vodil\\\\onedrive\\\\desktop\\\\project learning\\\\nestrukturirani_bazi\\\\.venv\\\\lib\\\\site-packages\\\\pip-22.0.4.dist-info\\\\METADATA'\n"
     ]
    }
   ],
   "source": [
    "%pip install pandas\n"
   ]
  },
  {
   "cell_type": "code",
   "execution_count": null,
   "id": "a2cca387",
   "metadata": {},
   "outputs": [
    {
     "name": "stdout",
     "output_type": "stream",
     "text": [
      "Requirement already satisfied: pyspark in c:\\users\\vodil\\onedrive\\desktop\\project learning\\nestrukturirani_bazi\\.venv\\lib\\site-packages (4.0.0)\n",
      "Requirement already satisfied: py4j==0.10.9.9 in c:\\users\\vodil\\onedrive\\desktop\\project learning\\nestrukturirani_bazi\\.venv\\lib\\site-packages (from pyspark) (0.10.9.9)\n",
      "Note: you may need to restart the kernel to use updated packages.\n"
     ]
    }
   ],
   "source": [
    "%pip install pyspark\n"
   ]
  },
  {
   "cell_type": "code",
   "execution_count": 15,
   "id": "353d4c58",
   "metadata": {},
   "outputs": [],
   "source": [
    "import json\n",
    "import pandas as pd\n",
    "import kagglehub\n",
    "from pyspark.sql import SparkSession\n",
    "from pyspark.sql.functions import (\n",
    "    col,\n",
    "    split,\n",
    "    size,\n",
    "    avg,\n",
    "    count,\n",
    "    explode,\n",
    "    trim,\n",
    "    row_number,\n",
    "    countDistinct,\n",
    "    date_format,\n",
    ")\n",
    "from pyspark.sql.window import Window"
   ]
  },
  {
   "cell_type": "code",
   "execution_count": 3,
   "id": "c7791e0e",
   "metadata": {},
   "outputs": [
    {
     "name": "stdout",
     "output_type": "stream",
     "text": [
      "C:\\Program Files\\Java\\jdk-21\n"
     ]
    }
   ],
   "source": [
    "import os\n",
    "\n",
    "print(os.environ[\"JAVA_HOME\"])"
   ]
  },
  {
   "cell_type": "code",
   "execution_count": 27,
   "id": "f3d507dd",
   "metadata": {},
   "outputs": [
    {
     "name": "stdout",
     "output_type": "stream",
     "text": [
      "Path to dataset files: C:\\Users\\vodil\\.cache\\kagglehub\\datasets\\yelp-dataset\\yelp-dataset\\versions\\4\n"
     ]
    }
   ],
   "source": [
    "# Download latest version\n",
    "path = kagglehub.dataset_download(\"yelp-dataset/yelp-dataset\")\n",
    "\n",
    "print(\"Path to dataset files:\", path)"
   ]
  },
  {
   "cell_type": "code",
   "execution_count": null,
   "id": "4f2ea7d9",
   "metadata": {},
   "outputs": [],
   "source": [
    "spark = (\n",
    "    SparkSession.builder.appName(\"SparkCassandraApp\")\n",
    "    .config(\"spark.driver.memory\", \"4g\")\n",
    "    .config(\"spark.sql.shuffle.partitions\", \"8\")\n",
    "    .config(\"spark.cassandra.connection.host\", \"localhost\")\n",
    "    .config(\"spark.cassandra.connection.port\", \"9042\")\n",
    "    .config(\"spark.cassandra.output.consistency.level\", \"ONE\")\n",
    "    .config(\n",
    "        \"spark.jars.packages\", \"com.datastax.spark:spark-cassandra-connector_2.12:3.5.1\"\n",
    "    )\n",
    "    .config(\"spark.jars.packages\", \"org.postgresql:postgresql:42.7.3\")\n",
    "    .getOrCreate()\n",
    ")"
   ]
  },
  {
   "cell_type": "code",
   "execution_count": null,
   "id": "013cfb03",
   "metadata": {},
   "outputs": [
    {
     "ename": "ConnectionRefusedError",
     "evalue": "[WinError 10061] No connection could be made because the target machine actively refused it",
     "output_type": "error",
     "traceback": [
      "\u001b[1;31m---------------------------------------------------------------------------\u001b[0m",
      "\u001b[1;31mConnectionRefusedError\u001b[0m                    Traceback (most recent call last)",
      "Cell \u001b[1;32mIn[25], line 1\u001b[0m\n\u001b[1;32m----> 1\u001b[0m \u001b[43mspark\u001b[49m\u001b[38;5;241;43m.\u001b[39;49m\u001b[43mstop\u001b[49m\u001b[43m(\u001b[49m\u001b[43m)\u001b[49m\n",
      "File \u001b[1;32mc:\\Users\\vodil\\OneDrive\\Desktop\\project learning\\nestrukturirani_bazi\\cassandra-vs-postgres-performance\\.venv\\lib\\site-packages\\pyspark\\sql\\session.py:1796\u001b[0m, in \u001b[0;36mSparkSession.stop\u001b[1;34m(self)\u001b[0m\n\u001b[0;32m   1782\u001b[0m \u001b[38;5;250m\u001b[39m\u001b[38;5;124;03m\"\"\"\u001b[39;00m\n\u001b[0;32m   1783\u001b[0m \u001b[38;5;124;03mStop the underlying :class:`SparkContext`.\u001b[39;00m\n\u001b[0;32m   1784\u001b[0m \n\u001b[1;32m   (...)\u001b[0m\n\u001b[0;32m   1792\u001b[0m \u001b[38;5;124;03m>>> spark.stop()  # doctest: +SKIP\u001b[39;00m\n\u001b[0;32m   1793\u001b[0m \u001b[38;5;124;03m\"\"\"\u001b[39;00m\n\u001b[0;32m   1794\u001b[0m \u001b[38;5;28;01mfrom\u001b[39;00m\u001b[38;5;250m \u001b[39m\u001b[38;5;21;01mpyspark\u001b[39;00m\u001b[38;5;21;01m.\u001b[39;00m\u001b[38;5;21;01msql\u001b[39;00m\u001b[38;5;21;01m.\u001b[39;00m\u001b[38;5;21;01mcontext\u001b[39;00m\u001b[38;5;250m \u001b[39m\u001b[38;5;28;01mimport\u001b[39;00m SQLContext\n\u001b[1;32m-> 1796\u001b[0m \u001b[38;5;28;43mself\u001b[39;49m\u001b[38;5;241;43m.\u001b[39;49m\u001b[43m_sc\u001b[49m\u001b[38;5;241;43m.\u001b[39;49m\u001b[43mstop\u001b[49m\u001b[43m(\u001b[49m\u001b[43m)\u001b[49m\n\u001b[0;32m   1797\u001b[0m \u001b[38;5;66;03m# We should clean the default session up. See SPARK-23228.\u001b[39;00m\n\u001b[0;32m   1798\u001b[0m \u001b[38;5;28;01massert\u001b[39;00m \u001b[38;5;28mself\u001b[39m\u001b[38;5;241m.\u001b[39m_jvm \u001b[38;5;129;01mis\u001b[39;00m \u001b[38;5;129;01mnot\u001b[39;00m \u001b[38;5;28;01mNone\u001b[39;00m\n",
      "File \u001b[1;32mc:\\Users\\vodil\\OneDrive\\Desktop\\project learning\\nestrukturirani_bazi\\cassandra-vs-postgres-performance\\.venv\\lib\\site-packages\\pyspark\\context.py:654\u001b[0m, in \u001b[0;36mSparkContext.stop\u001b[1;34m(self)\u001b[0m\n\u001b[0;32m    652\u001b[0m \u001b[38;5;28;01mif\u001b[39;00m \u001b[38;5;28mgetattr\u001b[39m(\u001b[38;5;28mself\u001b[39m, \u001b[38;5;124m\"\u001b[39m\u001b[38;5;124m_jsc\u001b[39m\u001b[38;5;124m\"\u001b[39m, \u001b[38;5;28;01mNone\u001b[39;00m):\n\u001b[0;32m    653\u001b[0m     \u001b[38;5;28;01mtry\u001b[39;00m:\n\u001b[1;32m--> 654\u001b[0m         \u001b[38;5;28;43mself\u001b[39;49m\u001b[38;5;241;43m.\u001b[39;49m\u001b[43m_jsc\u001b[49m\u001b[38;5;241;43m.\u001b[39;49m\u001b[43mstop\u001b[49m\u001b[43m(\u001b[49m\u001b[43m)\u001b[49m\n\u001b[0;32m    655\u001b[0m     \u001b[38;5;28;01mexcept\u001b[39;00m Py4JError:\n\u001b[0;32m    656\u001b[0m         \u001b[38;5;66;03m# Case: SPARK-18523\u001b[39;00m\n\u001b[0;32m    657\u001b[0m         warnings\u001b[38;5;241m.\u001b[39mwarn(\n\u001b[0;32m    658\u001b[0m             \u001b[38;5;124m\"\u001b[39m\u001b[38;5;124mUnable to cleanly shutdown Spark JVM process.\u001b[39m\u001b[38;5;124m\"\u001b[39m\n\u001b[0;32m    659\u001b[0m             \u001b[38;5;124m\"\u001b[39m\u001b[38;5;124m It is possible that the process has crashed,\u001b[39m\u001b[38;5;124m\"\u001b[39m\n\u001b[0;32m    660\u001b[0m             \u001b[38;5;124m\"\u001b[39m\u001b[38;5;124m been killed or may also be in a zombie state.\u001b[39m\u001b[38;5;124m\"\u001b[39m,\n\u001b[0;32m    661\u001b[0m             \u001b[38;5;167;01mRuntimeWarning\u001b[39;00m,\n\u001b[0;32m    662\u001b[0m         )\n",
      "File \u001b[1;32mc:\\Users\\vodil\\OneDrive\\Desktop\\project learning\\nestrukturirani_bazi\\cassandra-vs-postgres-performance\\.venv\\lib\\site-packages\\py4j\\java_gateway.py:1321\u001b[0m, in \u001b[0;36mJavaMember.__call__\u001b[1;34m(self, *args)\u001b[0m\n\u001b[0;32m   1314\u001b[0m args_command, temp_args \u001b[38;5;241m=\u001b[39m \u001b[38;5;28mself\u001b[39m\u001b[38;5;241m.\u001b[39m_build_args(\u001b[38;5;241m*\u001b[39margs)\n\u001b[0;32m   1316\u001b[0m command \u001b[38;5;241m=\u001b[39m proto\u001b[38;5;241m.\u001b[39mCALL_COMMAND_NAME \u001b[38;5;241m+\u001b[39m\\\n\u001b[0;32m   1317\u001b[0m     \u001b[38;5;28mself\u001b[39m\u001b[38;5;241m.\u001b[39mcommand_header \u001b[38;5;241m+\u001b[39m\\\n\u001b[0;32m   1318\u001b[0m     args_command \u001b[38;5;241m+\u001b[39m\\\n\u001b[0;32m   1319\u001b[0m     proto\u001b[38;5;241m.\u001b[39mEND_COMMAND_PART\n\u001b[1;32m-> 1321\u001b[0m answer \u001b[38;5;241m=\u001b[39m \u001b[38;5;28;43mself\u001b[39;49m\u001b[38;5;241;43m.\u001b[39;49m\u001b[43mgateway_client\u001b[49m\u001b[38;5;241;43m.\u001b[39;49m\u001b[43msend_command\u001b[49m\u001b[43m(\u001b[49m\u001b[43mcommand\u001b[49m\u001b[43m)\u001b[49m\n\u001b[0;32m   1322\u001b[0m return_value \u001b[38;5;241m=\u001b[39m get_return_value(\n\u001b[0;32m   1323\u001b[0m     answer, \u001b[38;5;28mself\u001b[39m\u001b[38;5;241m.\u001b[39mgateway_client, \u001b[38;5;28mself\u001b[39m\u001b[38;5;241m.\u001b[39mtarget_id, \u001b[38;5;28mself\u001b[39m\u001b[38;5;241m.\u001b[39mname)\n\u001b[0;32m   1325\u001b[0m \u001b[38;5;28;01mfor\u001b[39;00m temp_arg \u001b[38;5;129;01min\u001b[39;00m temp_args:\n",
      "File \u001b[1;32mc:\\Users\\vodil\\OneDrive\\Desktop\\project learning\\nestrukturirani_bazi\\cassandra-vs-postgres-performance\\.venv\\lib\\site-packages\\py4j\\java_gateway.py:1036\u001b[0m, in \u001b[0;36mGatewayClient.send_command\u001b[1;34m(self, command, retry, binary)\u001b[0m\n\u001b[0;32m   1015\u001b[0m \u001b[38;5;28;01mdef\u001b[39;00m\u001b[38;5;250m \u001b[39m\u001b[38;5;21msend_command\u001b[39m(\u001b[38;5;28mself\u001b[39m, command, retry\u001b[38;5;241m=\u001b[39m\u001b[38;5;28;01mTrue\u001b[39;00m, binary\u001b[38;5;241m=\u001b[39m\u001b[38;5;28;01mFalse\u001b[39;00m):\n\u001b[0;32m   1016\u001b[0m \u001b[38;5;250m    \u001b[39m\u001b[38;5;124;03m\"\"\"Sends a command to the JVM. This method is not intended to be\u001b[39;00m\n\u001b[0;32m   1017\u001b[0m \u001b[38;5;124;03m       called directly by Py4J users. It is usually called by\u001b[39;00m\n\u001b[0;32m   1018\u001b[0m \u001b[38;5;124;03m       :class:`JavaMember` instances.\u001b[39;00m\n\u001b[1;32m   (...)\u001b[0m\n\u001b[0;32m   1034\u001b[0m \u001b[38;5;124;03m     if `binary` is `True`.\u001b[39;00m\n\u001b[0;32m   1035\u001b[0m \u001b[38;5;124;03m    \"\"\"\u001b[39;00m\n\u001b[1;32m-> 1036\u001b[0m     connection \u001b[38;5;241m=\u001b[39m \u001b[38;5;28;43mself\u001b[39;49m\u001b[38;5;241;43m.\u001b[39;49m\u001b[43m_get_connection\u001b[49m\u001b[43m(\u001b[49m\u001b[43m)\u001b[49m\n\u001b[0;32m   1037\u001b[0m     \u001b[38;5;28;01mtry\u001b[39;00m:\n\u001b[0;32m   1038\u001b[0m         response \u001b[38;5;241m=\u001b[39m connection\u001b[38;5;241m.\u001b[39msend_command(command)\n",
      "File \u001b[1;32mc:\\Users\\vodil\\OneDrive\\Desktop\\project learning\\nestrukturirani_bazi\\cassandra-vs-postgres-performance\\.venv\\lib\\site-packages\\py4j\\clientserver.py:284\u001b[0m, in \u001b[0;36mJavaClient._get_connection\u001b[1;34m(self)\u001b[0m\n\u001b[0;32m    281\u001b[0m     \u001b[38;5;28;01mpass\u001b[39;00m\n\u001b[0;32m    283\u001b[0m \u001b[38;5;28;01mif\u001b[39;00m connection \u001b[38;5;129;01mis\u001b[39;00m \u001b[38;5;28;01mNone\u001b[39;00m \u001b[38;5;129;01mor\u001b[39;00m connection\u001b[38;5;241m.\u001b[39msocket \u001b[38;5;129;01mis\u001b[39;00m \u001b[38;5;28;01mNone\u001b[39;00m:\n\u001b[1;32m--> 284\u001b[0m     connection \u001b[38;5;241m=\u001b[39m \u001b[38;5;28;43mself\u001b[39;49m\u001b[38;5;241;43m.\u001b[39;49m\u001b[43m_create_new_connection\u001b[49m\u001b[43m(\u001b[49m\u001b[43m)\u001b[49m\n\u001b[0;32m    285\u001b[0m \u001b[38;5;28;01mreturn\u001b[39;00m connection\n",
      "File \u001b[1;32mc:\\Users\\vodil\\OneDrive\\Desktop\\project learning\\nestrukturirani_bazi\\cassandra-vs-postgres-performance\\.venv\\lib\\site-packages\\py4j\\clientserver.py:291\u001b[0m, in \u001b[0;36mJavaClient._create_new_connection\u001b[1;34m(self)\u001b[0m\n\u001b[0;32m    287\u001b[0m \u001b[38;5;28;01mdef\u001b[39;00m\u001b[38;5;250m \u001b[39m\u001b[38;5;21m_create_new_connection\u001b[39m(\u001b[38;5;28mself\u001b[39m):\n\u001b[0;32m    288\u001b[0m     connection \u001b[38;5;241m=\u001b[39m ClientServerConnection(\n\u001b[0;32m    289\u001b[0m         \u001b[38;5;28mself\u001b[39m\u001b[38;5;241m.\u001b[39mjava_parameters, \u001b[38;5;28mself\u001b[39m\u001b[38;5;241m.\u001b[39mpython_parameters,\n\u001b[0;32m    290\u001b[0m         \u001b[38;5;28mself\u001b[39m\u001b[38;5;241m.\u001b[39mgateway_property, \u001b[38;5;28mself\u001b[39m)\n\u001b[1;32m--> 291\u001b[0m     \u001b[43mconnection\u001b[49m\u001b[38;5;241;43m.\u001b[39;49m\u001b[43mconnect_to_java_server\u001b[49m\u001b[43m(\u001b[49m\u001b[43m)\u001b[49m\n\u001b[0;32m    292\u001b[0m     \u001b[38;5;28mself\u001b[39m\u001b[38;5;241m.\u001b[39mset_thread_connection(connection)\n\u001b[0;32m    293\u001b[0m     \u001b[38;5;28;01mreturn\u001b[39;00m connection\n",
      "File \u001b[1;32mc:\\Users\\vodil\\OneDrive\\Desktop\\project learning\\nestrukturirani_bazi\\cassandra-vs-postgres-performance\\.venv\\lib\\site-packages\\py4j\\clientserver.py:438\u001b[0m, in \u001b[0;36mClientServerConnection.connect_to_java_server\u001b[1;34m(self)\u001b[0m\n\u001b[0;32m    435\u001b[0m \u001b[38;5;28;01mif\u001b[39;00m \u001b[38;5;28mself\u001b[39m\u001b[38;5;241m.\u001b[39mssl_context:\n\u001b[0;32m    436\u001b[0m     \u001b[38;5;28mself\u001b[39m\u001b[38;5;241m.\u001b[39msocket \u001b[38;5;241m=\u001b[39m \u001b[38;5;28mself\u001b[39m\u001b[38;5;241m.\u001b[39mssl_context\u001b[38;5;241m.\u001b[39mwrap_socket(\n\u001b[0;32m    437\u001b[0m         \u001b[38;5;28mself\u001b[39m\u001b[38;5;241m.\u001b[39msocket, server_hostname\u001b[38;5;241m=\u001b[39m\u001b[38;5;28mself\u001b[39m\u001b[38;5;241m.\u001b[39mjava_address)\n\u001b[1;32m--> 438\u001b[0m \u001b[38;5;28;43mself\u001b[39;49m\u001b[38;5;241;43m.\u001b[39;49m\u001b[43msocket\u001b[49m\u001b[38;5;241;43m.\u001b[39;49m\u001b[43mconnect\u001b[49m\u001b[43m(\u001b[49m\u001b[43m(\u001b[49m\u001b[38;5;28;43mself\u001b[39;49m\u001b[38;5;241;43m.\u001b[39;49m\u001b[43mjava_address\u001b[49m\u001b[43m,\u001b[49m\u001b[43m \u001b[49m\u001b[38;5;28;43mself\u001b[39;49m\u001b[38;5;241;43m.\u001b[39;49m\u001b[43mjava_port\u001b[49m\u001b[43m)\u001b[49m\u001b[43m)\u001b[49m\n\u001b[0;32m    439\u001b[0m \u001b[38;5;28mself\u001b[39m\u001b[38;5;241m.\u001b[39mstream \u001b[38;5;241m=\u001b[39m \u001b[38;5;28mself\u001b[39m\u001b[38;5;241m.\u001b[39msocket\u001b[38;5;241m.\u001b[39mmakefile(\u001b[38;5;124m\"\u001b[39m\u001b[38;5;124mrb\u001b[39m\u001b[38;5;124m\"\u001b[39m)\n\u001b[0;32m    440\u001b[0m \u001b[38;5;28mself\u001b[39m\u001b[38;5;241m.\u001b[39mis_connected \u001b[38;5;241m=\u001b[39m \u001b[38;5;28;01mTrue\u001b[39;00m\n",
      "\u001b[1;31mConnectionRefusedError\u001b[0m: [WinError 10061] No connection could be made because the target machine actively refused it"
     ]
    }
   ],
   "source": []
  },
  {
   "cell_type": "code",
   "execution_count": 3,
   "id": "384e82b0",
   "metadata": {},
   "outputs": [],
   "source": [
    "def return_df(abs_path):\n",
    "    df = spark.read.json(abs_path)\n",
    "    df.show(5)\n",
    "    return df"
   ]
  },
  {
   "cell_type": "code",
   "execution_count": 4,
   "id": "74deee11",
   "metadata": {},
   "outputs": [],
   "source": [
    "absolute_academic_business_file_path = \"C:\\\\Users\\\\vodil\\\\.cache\\\\kagglehub\\\\datasets\\\\yelp-dataset\\\\yelp-dataset\\\\versions\\\\4\\\\yelp_academic_dataset_business.json\"\n",
    "absolute_file_path_review = \"C:\\\\Users\\\\vodil\\\\.cache\\\\kagglehub\\\\datasets\\\\yelp-dataset\\\\yelp-dataset\\\\versions\\\\4\\\\yelp_academic_dataset_review.json\"\n",
    "absolute_file_path_user = \"C:\\\\Users\\\\vodil\\\\.cache\\\\kagglehub\\\\datasets\\\\yelp-dataset\\\\yelp-dataset\\\\versions\\\\4\\\\yelp_academic_dataset_user.json\""
   ]
  },
  {
   "cell_type": "code",
   "execution_count": 5,
   "id": "674d7817",
   "metadata": {},
   "outputs": [
    {
     "name": "stdout",
     "output_type": "stream",
     "text": [
      "+--------------------+--------------------+--------------------+--------------------+-------------+--------------------+-------+----------+------------+--------------------+-----------+------------+-----+-----+\n",
      "|             address|          attributes|         business_id|          categories|         city|               hours|is_open|  latitude|   longitude|                name|postal_code|review_count|stars|state|\n",
      "+--------------------+--------------------+--------------------+--------------------+-------------+--------------------+-------+----------+------------+--------------------+-----------+------------+-----+-----+\n",
      "|1616 Chapala St, ...|{NULL, NULL, NULL...|Pns2l4eNsfO8kk83d...|Doctors, Traditio...|Santa Barbara|                NULL|      0|34.4266787|-119.7111968|Abby Rappoport, L...|      93101|           7|  5.0|   CA|\n",
      "|87 Grasso Plaza S...|{NULL, NULL, NULL...|mpf3x-BjTdTEA3yCZ...|Shipping Centers,...|       Affton|{8:0-18:30, 0:0-0...|      1| 38.551126|  -90.335695|       The UPS Store|      63123|          15|  3.0|   MO|\n",
      "|5255 E Broadway Blvd|{NULL, NULL, NULL...|tUFrWirKiKi_TAnsV...|Department Stores...|       Tucson|{8:0-23:0, 8:0-22...|      0| 32.223236| -110.880452|              Target|      85711|          22|  3.5|   AZ|\n",
      "|         935 Race St|{NULL, NULL, u'no...|MTSW4McQd7CbVtyjq...|Restaurants, Food...| Philadelphia|{7:0-21:0, 7:0-20...|      1|39.9555052| -75.1555641|  St Honore Pastries|      19107|          80|  4.0|   PA|\n",
      "|       101 Walnut St|{NULL, NULL, NULL...|mWMc6_wTdE0EUBKIG...|Brewpubs, Breweri...|   Green Lane|{12:0-22:0, NULL,...|      1|40.3381827| -75.4716585|Perkiomen Valley ...|      18054|          13|  4.5|   PA|\n",
      "+--------------------+--------------------+--------------------+--------------------+-------------+--------------------+-------+----------+------------+--------------------+-----------+------------+-----+-----+\n",
      "only showing top 5 rows\n",
      "\n"
     ]
    }
   ],
   "source": [
    "business_df = return_df(absolute_academic_business_file_path)\n"
   ]
  },
  {
   "cell_type": "code",
   "execution_count": 22,
   "id": "61921f34",
   "metadata": {},
   "outputs": [
    {
     "name": "stdout",
     "output_type": "stream",
     "text": [
      "root\n",
      " |-- address: string (nullable = true)\n",
      " |-- attributes: struct (nullable = true)\n",
      " |    |-- AcceptsInsurance: string (nullable = true)\n",
      " |    |-- AgesAllowed: string (nullable = true)\n",
      " |    |-- Alcohol: string (nullable = true)\n",
      " |    |-- Ambience: string (nullable = true)\n",
      " |    |-- BYOB: string (nullable = true)\n",
      " |    |-- BYOBCorkage: string (nullable = true)\n",
      " |    |-- BestNights: string (nullable = true)\n",
      " |    |-- BikeParking: string (nullable = true)\n",
      " |    |-- BusinessAcceptsBitcoin: string (nullable = true)\n",
      " |    |-- BusinessAcceptsCreditCards: string (nullable = true)\n",
      " |    |-- BusinessParking: string (nullable = true)\n",
      " |    |-- ByAppointmentOnly: string (nullable = true)\n",
      " |    |-- Caters: string (nullable = true)\n",
      " |    |-- CoatCheck: string (nullable = true)\n",
      " |    |-- Corkage: string (nullable = true)\n",
      " |    |-- DietaryRestrictions: string (nullable = true)\n",
      " |    |-- DogsAllowed: string (nullable = true)\n",
      " |    |-- DriveThru: string (nullable = true)\n",
      " |    |-- GoodForDancing: string (nullable = true)\n",
      " |    |-- GoodForKids: string (nullable = true)\n",
      " |    |-- GoodForMeal: string (nullable = true)\n",
      " |    |-- HairSpecializesIn: string (nullable = true)\n",
      " |    |-- HappyHour: string (nullable = true)\n",
      " |    |-- HasTV: string (nullable = true)\n",
      " |    |-- Music: string (nullable = true)\n",
      " |    |-- NoiseLevel: string (nullable = true)\n",
      " |    |-- Open24Hours: string (nullable = true)\n",
      " |    |-- OutdoorSeating: string (nullable = true)\n",
      " |    |-- RestaurantsAttire: string (nullable = true)\n",
      " |    |-- RestaurantsCounterService: string (nullable = true)\n",
      " |    |-- RestaurantsDelivery: string (nullable = true)\n",
      " |    |-- RestaurantsGoodForGroups: string (nullable = true)\n",
      " |    |-- RestaurantsPriceRange2: string (nullable = true)\n",
      " |    |-- RestaurantsReservations: string (nullable = true)\n",
      " |    |-- RestaurantsTableService: string (nullable = true)\n",
      " |    |-- RestaurantsTakeOut: string (nullable = true)\n",
      " |    |-- Smoking: string (nullable = true)\n",
      " |    |-- WheelchairAccessible: string (nullable = true)\n",
      " |    |-- WiFi: string (nullable = true)\n",
      " |-- business_id: string (nullable = true)\n",
      " |-- categories: string (nullable = true)\n",
      " |-- city: string (nullable = true)\n",
      " |-- hours: struct (nullable = true)\n",
      " |    |-- Friday: string (nullable = true)\n",
      " |    |-- Monday: string (nullable = true)\n",
      " |    |-- Saturday: string (nullable = true)\n",
      " |    |-- Sunday: string (nullable = true)\n",
      " |    |-- Thursday: string (nullable = true)\n",
      " |    |-- Tuesday: string (nullable = true)\n",
      " |    |-- Wednesday: string (nullable = true)\n",
      " |-- is_open: long (nullable = true)\n",
      " |-- latitude: double (nullable = true)\n",
      " |-- longitude: double (nullable = true)\n",
      " |-- name: string (nullable = true)\n",
      " |-- postal_code: string (nullable = true)\n",
      " |-- review_count: long (nullable = true)\n",
      " |-- stars: double (nullable = true)\n",
      " |-- state: string (nullable = true)\n",
      "\n"
     ]
    }
   ],
   "source": [
    "business_df.printSchema()\n"
   ]
  },
  {
   "cell_type": "code",
   "execution_count": 6,
   "id": "97da399d",
   "metadata": {},
   "outputs": [
    {
     "name": "stdout",
     "output_type": "stream",
     "text": [
      "+--------------------+----+-------------------+-----+--------------------+-----+--------------------+------+--------------------+\n",
      "|         business_id|cool|               date|funny|           review_id|stars|                text|useful|             user_id|\n",
      "+--------------------+----+-------------------+-----+--------------------+-----+--------------------+------+--------------------+\n",
      "|XQfwVwDr-v0ZS3_Cb...|   0|2018-07-07 22:09:11|    0|KU_O5udG6zpxOg-Vc...|  3.0|If you decide to ...|     0|mh_-eMZ6K5RLWhZyI...|\n",
      "|7ATYjTIgM3jUlt4UM...|   1|2012-01-03 15:28:18|    0|BiTunyQ73aT9WBnpR...|  5.0|I've taken a lot ...|     1|OyoGAe7OKpv6SyGZT...|\n",
      "|YjUWPpI6HXG530lwP...|   0|2014-02-05 20:30:30|    0|saUsX_uimxRlCVr67...|  3.0|Family diner. Had...|     0|8g_iMtfSiwikVnbP2...|\n",
      "|kxX2SOes4o-D3ZQBk...|   1|2015-01-04 00:01:03|    0|AqPFMleE6RsU23_au...|  5.0|Wow!  Yummy, diff...|     1|_7bHUi9Uuf5__HHc_...|\n",
      "|e4Vwtrqf-wpJfwesg...|   1|2017-01-14 20:54:15|    0|Sx8TMOWLNuJBWer-0...|  4.0|Cute interior and...|     1|bcjbaE6dDog4jkNY9...|\n",
      "+--------------------+----+-------------------+-----+--------------------+-----+--------------------+------+--------------------+\n",
      "only showing top 5 rows\n",
      "\n"
     ]
    }
   ],
   "source": [
    "review_df =  return_df(absolute_file_path_review)"
   ]
  },
  {
   "cell_type": "code",
   "execution_count": 23,
   "id": "23491d1a",
   "metadata": {},
   "outputs": [
    {
     "name": "stdout",
     "output_type": "stream",
     "text": [
      "root\n",
      " |-- business_id: string (nullable = true)\n",
      " |-- cool: long (nullable = true)\n",
      " |-- date: string (nullable = true)\n",
      " |-- funny: long (nullable = true)\n",
      " |-- review_id: string (nullable = true)\n",
      " |-- stars: double (nullable = true)\n",
      " |-- text: string (nullable = true)\n",
      " |-- useful: long (nullable = true)\n",
      " |-- user_id: string (nullable = true)\n",
      "\n"
     ]
    }
   ],
   "source": [
    "review_df.printSchema()"
   ]
  },
  {
   "cell_type": "code",
   "execution_count": 7,
   "id": "4da15edb",
   "metadata": {},
   "outputs": [
    {
     "name": "stdout",
     "output_type": "stream",
     "text": [
      "+-------------+---------------+---------------+----------------+--------------+---------------+---------------+---------------+-----------------+----------------+------------------+-----------------+-----+--------------------+----+--------------------+-----+------+------------+------+--------------------+-------------------+\n",
      "|average_stars|compliment_cool|compliment_cute|compliment_funny|compliment_hot|compliment_list|compliment_more|compliment_note|compliment_photos|compliment_plain|compliment_profile|compliment_writer| cool|               elite|fans|             friends|funny|  name|review_count|useful|             user_id|      yelping_since|\n",
      "+-------------+---------------+---------------+----------------+--------------+---------------+---------------+---------------+-----------------+----------------+------------------+-----------------+-----+--------------------+----+--------------------+-----+------+------------+------+--------------------+-------------------+\n",
      "|         3.91|            467|             56|             467|           250|             18|             65|            232|              180|             844|                55|              239| 5994|                2007| 267|NSCy54eWehBJyZdG2...| 1259|Walker|         585|  7217|qVc8ODYU5SZjKXVBg...|2007-01-25 16:47:26|\n",
      "|         3.74|           3131|            157|            3131|          1145|            251|            264|           1847|             1946|            7054|               184|             1521|27281|2009,2010,2011,20...|3138|ueRPE0CX75ePGMqOF...|13066|Daniel|        4333| 43091|j14WgRoU_-2ZE1aw1...|2009-01-25 04:35:42|\n",
      "|         3.32|            119|             17|             119|            89|              3|             13|             66|               18|              96|                10|               35| 1003|2009,2010,2011,20...|  52|LuO3Bn4f3rlhyHIaN...| 1010| Steph|         665|  2086|2WnXYQFK0hXEoTxPt...|2008-07-25 10:41:00|\n",
      "|         4.27|             26|              6|              26|            24|              2|              4|             12|                9|              16|                 1|               10|  299|      2009,2010,2011|  28|enx1vVPnfdNUdPho6...|  330|  Gwen|         224|   512|SZDeASXq7o05mMNLs...|2005-11-29 04:38:33|\n",
      "|         3.54|              0|              0|               0|             1|              0|              1|              1|                0|               1|                 0|                0|    7|                    |   1|PBK4q9KEEBHhFvSXC...|   15| Karen|          79|    29|hA5lMy-EnncsH4JoR...|2007-01-05 19:40:59|\n",
      "+-------------+---------------+---------------+----------------+--------------+---------------+---------------+---------------+-----------------+----------------+------------------+-----------------+-----+--------------------+----+--------------------+-----+------+------------+------+--------------------+-------------------+\n",
      "only showing top 5 rows\n",
      "\n"
     ]
    }
   ],
   "source": [
    "user_df = return_df(absolute_file_path_user)\n"
   ]
  },
  {
   "cell_type": "code",
   "execution_count": 21,
   "id": "60fbb73b",
   "metadata": {},
   "outputs": [
    {
     "name": "stdout",
     "output_type": "stream",
     "text": [
      "root\n",
      " |-- average_stars: double (nullable = true)\n",
      " |-- compliment_cool: long (nullable = true)\n",
      " |-- compliment_cute: long (nullable = true)\n",
      " |-- compliment_funny: long (nullable = true)\n",
      " |-- compliment_hot: long (nullable = true)\n",
      " |-- compliment_list: long (nullable = true)\n",
      " |-- compliment_more: long (nullable = true)\n",
      " |-- compliment_note: long (nullable = true)\n",
      " |-- compliment_photos: long (nullable = true)\n",
      " |-- compliment_plain: long (nullable = true)\n",
      " |-- compliment_profile: long (nullable = true)\n",
      " |-- compliment_writer: long (nullable = true)\n",
      " |-- cool: long (nullable = true)\n",
      " |-- elite: string (nullable = true)\n",
      " |-- fans: long (nullable = true)\n",
      " |-- friends: string (nullable = true)\n",
      " |-- funny: long (nullable = true)\n",
      " |-- name: string (nullable = true)\n",
      " |-- review_count: long (nullable = true)\n",
      " |-- useful: long (nullable = true)\n",
      " |-- user_id: string (nullable = true)\n",
      " |-- yelping_since: string (nullable = true)\n",
      "\n"
     ]
    }
   ],
   "source": [
    "user_df.printSchema()"
   ]
  },
  {
   "cell_type": "markdown",
   "id": "3a88cb51",
   "metadata": {},
   "source": [
    "\n",
    "# Cassandra ingestion\n"
   ]
  },
  {
   "cell_type": "markdown",
   "id": "d2d3c13f",
   "metadata": {},
   "source": [
    "## Joining the business and reviews dataframe \n"
   ]
  },
  {
   "cell_type": "code",
   "execution_count": 8,
   "id": "8148f3ca",
   "metadata": {},
   "outputs": [],
   "source": [
    "business_df = business_df.alias(\"bus\")\n",
    "review_df = review_df.alias(\"rev\")\n",
    "user_df = user_df.alias(\"usr\")"
   ]
  },
  {
   "cell_type": "code",
   "execution_count": 18,
   "id": "e6317df1",
   "metadata": {},
   "outputs": [
    {
     "name": "stdout",
     "output_type": "stream",
     "text": [
      "+--------------------+-------------+--------------------+--------------------+-----+--------------------+-------+----------+-----------+--------------+-----------+------------+-----+-----+----+-------------------+-----+--------------------+-----+--------------------+------+--------------------+\n",
      "|         business_id|      address|          attributes|          categories| city|               hours|is_open|  latitude|  longitude|          name|postal_code|review_count|stars|state|cool|               date|funny|           review_id|stars|                text|useful|             user_id|\n",
      "+--------------------+-------------+--------------------+--------------------+-----+--------------------+-------+----------+-----------+--------------+-----------+------------+-----+-----+----+-------------------+-----+--------------------+-----+--------------------+------+--------------------+\n",
      "|--LC8cIrALInl2vyo...|6537 Gunn Hwy|{NULL, NULL, NULL...|Hair Salons, Hair...|Tampa|{9:0-20:0, NULL, ...|      1|28.0658857|-82.5593005|Studio G Salon|      33625|           8|  5.0|   FL|   0|2017-06-16 01:18:33|    0|tCpMGrQJmRdJLLKWW...|  5.0|Glory is so thoro...|     1|zNhPcEoIV5pRDqtmr...|\n",
      "|--LC8cIrALInl2vyo...|6537 Gunn Hwy|{NULL, NULL, NULL...|Hair Salons, Hair...|Tampa|{9:0-20:0, NULL, ...|      1|28.0658857|-82.5593005|Studio G Salon|      33625|           8|  5.0|   FL|   1|2017-01-12 22:14:19|    0|GE59uDSzOEmbi4ls3...|  5.0|What a beautiful ...|     1|3rUzpaQ1EBKFU6M8i...|\n",
      "|--LC8cIrALInl2vyo...|6537 Gunn Hwy|{NULL, NULL, NULL...|Hair Salons, Hair...|Tampa|{9:0-20:0, NULL, ...|      1|28.0658857|-82.5593005|Studio G Salon|      33625|           8|  5.0|   FL|   0|2018-04-13 00:44:48|    0|yinntW_zjKLUHaICp...|  5.0|I booked my appoi...|     0|lbynoUDKnb3momtx_...|\n",
      "|--LC8cIrALInl2vyo...|6537 Gunn Hwy|{NULL, NULL, NULL...|Hair Salons, Hair...|Tampa|{9:0-20:0, NULL, ...|      1|28.0658857|-82.5593005|Studio G Salon|      33625|           8|  5.0|   FL|   1|2017-03-03 19:39:31|    1|-hwbNPORJHk3A2sza...|  5.0|My previous styli...|     4|aY7Tuiui3BbrLGgVp...|\n",
      "|--LC8cIrALInl2vyo...|6537 Gunn Hwy|{NULL, NULL, NULL...|Hair Salons, Hair...|Tampa|{9:0-20:0, NULL, ...|      1|28.0658857|-82.5593005|Studio G Salon|      33625|           8|  5.0|   FL|   0|2018-12-21 15:10:29|    0|HnVgy9Cvq1O3blTwe...|  5.0|Wonderful salon! ...|     0|jaUJ8-O-DoXqBP59y...|\n",
      "+--------------------+-------------+--------------------+--------------------+-----+--------------------+-------+----------+-----------+--------------+-----------+------------+-----+-----+----+-------------------+-----+--------------------+-----+--------------------+------+--------------------+\n",
      "only showing top 5 rows\n",
      "\n"
     ]
    }
   ],
   "source": [
    "\n",
    "\n",
    "business_and_reviews_df = business_df.join(review_df, on=\"business_id\", how=\"inner\")\n",
    "business_and_reviews_df.show(5)"
   ]
  },
  {
   "cell_type": "code",
   "execution_count": 29,
   "id": "c49c6fde",
   "metadata": {},
   "outputs": [
    {
     "name": "stdout",
     "output_type": "stream",
     "text": [
      "root\n",
      " |-- business_id: string (nullable = true)\n",
      " |-- address: string (nullable = true)\n",
      " |-- attributes: struct (nullable = true)\n",
      " |    |-- AcceptsInsurance: string (nullable = true)\n",
      " |    |-- AgesAllowed: string (nullable = true)\n",
      " |    |-- Alcohol: string (nullable = true)\n",
      " |    |-- Ambience: string (nullable = true)\n",
      " |    |-- BYOB: string (nullable = true)\n",
      " |    |-- BYOBCorkage: string (nullable = true)\n",
      " |    |-- BestNights: string (nullable = true)\n",
      " |    |-- BikeParking: string (nullable = true)\n",
      " |    |-- BusinessAcceptsBitcoin: string (nullable = true)\n",
      " |    |-- BusinessAcceptsCreditCards: string (nullable = true)\n",
      " |    |-- BusinessParking: string (nullable = true)\n",
      " |    |-- ByAppointmentOnly: string (nullable = true)\n",
      " |    |-- Caters: string (nullable = true)\n",
      " |    |-- CoatCheck: string (nullable = true)\n",
      " |    |-- Corkage: string (nullable = true)\n",
      " |    |-- DietaryRestrictions: string (nullable = true)\n",
      " |    |-- DogsAllowed: string (nullable = true)\n",
      " |    |-- DriveThru: string (nullable = true)\n",
      " |    |-- GoodForDancing: string (nullable = true)\n",
      " |    |-- GoodForKids: string (nullable = true)\n",
      " |    |-- GoodForMeal: string (nullable = true)\n",
      " |    |-- HairSpecializesIn: string (nullable = true)\n",
      " |    |-- HappyHour: string (nullable = true)\n",
      " |    |-- HasTV: string (nullable = true)\n",
      " |    |-- Music: string (nullable = true)\n",
      " |    |-- NoiseLevel: string (nullable = true)\n",
      " |    |-- Open24Hours: string (nullable = true)\n",
      " |    |-- OutdoorSeating: string (nullable = true)\n",
      " |    |-- RestaurantsAttire: string (nullable = true)\n",
      " |    |-- RestaurantsCounterService: string (nullable = true)\n",
      " |    |-- RestaurantsDelivery: string (nullable = true)\n",
      " |    |-- RestaurantsGoodForGroups: string (nullable = true)\n",
      " |    |-- RestaurantsPriceRange2: string (nullable = true)\n",
      " |    |-- RestaurantsReservations: string (nullable = true)\n",
      " |    |-- RestaurantsTableService: string (nullable = true)\n",
      " |    |-- RestaurantsTakeOut: string (nullable = true)\n",
      " |    |-- Smoking: string (nullable = true)\n",
      " |    |-- WheelchairAccessible: string (nullable = true)\n",
      " |    |-- WiFi: string (nullable = true)\n",
      " |-- categories: string (nullable = true)\n",
      " |-- city: string (nullable = true)\n",
      " |-- hours: struct (nullable = true)\n",
      " |    |-- Friday: string (nullable = true)\n",
      " |    |-- Monday: string (nullable = true)\n",
      " |    |-- Saturday: string (nullable = true)\n",
      " |    |-- Sunday: string (nullable = true)\n",
      " |    |-- Thursday: string (nullable = true)\n",
      " |    |-- Tuesday: string (nullable = true)\n",
      " |    |-- Wednesday: string (nullable = true)\n",
      " |-- is_open: long (nullable = true)\n",
      " |-- latitude: double (nullable = true)\n",
      " |-- longitude: double (nullable = true)\n",
      " |-- name: string (nullable = true)\n",
      " |-- postal_code: string (nullable = true)\n",
      " |-- review_count: long (nullable = true)\n",
      " |-- stars: double (nullable = true)\n",
      " |-- state: string (nullable = true)\n",
      " |-- cool: long (nullable = true)\n",
      " |-- date: string (nullable = true)\n",
      " |-- funny: long (nullable = true)\n",
      " |-- review_id: string (nullable = true)\n",
      " |-- stars: double (nullable = true)\n",
      " |-- text: string (nullable = true)\n",
      " |-- useful: long (nullable = true)\n",
      " |-- user_id: string (nullable = true)\n",
      "\n"
     ]
    }
   ],
   "source": [
    "business_and_reviews_df.printSchema()"
   ]
  },
  {
   "cell_type": "markdown",
   "id": "36200305",
   "metadata": {},
   "source": [
    "# Joining user and reviews"
   ]
  },
  {
   "cell_type": "code",
   "execution_count": 9,
   "id": "2c5c3ae6",
   "metadata": {},
   "outputs": [
    {
     "name": "stdout",
     "output_type": "stream",
     "text": [
      "+--------------------+--------------------+----+-------------------+-----+--------------------+-----+--------------------+------+-------------+---------------+---------------+----------------+--------------+---------------+---------------+---------------+-----------------+----------------+------------------+-----------------+----+--------------+----+--------------------+-----+---------+------------+------+-------------------+\n",
      "|             user_id|         business_id|cool|               date|funny|           review_id|stars|                text|useful|average_stars|compliment_cool|compliment_cute|compliment_funny|compliment_hot|compliment_list|compliment_more|compliment_note|compliment_photos|compliment_plain|compliment_profile|compliment_writer|cool|         elite|fans|             friends|funny|     name|review_count|useful|      yelping_since|\n",
      "+--------------------+--------------------+----+-------------------+-----+--------------------+-----+--------------------+------+-------------+---------------+---------------+----------------+--------------+---------------+---------------+---------------+-----------------+----------------+------------------+-----------------+----+--------------+----+--------------------+-----+---------+------------+------+-------------------+\n",
      "|---1lKK3aKOuomHnw...|f19eLfhXqR47Ct8Hz...|   0|2018-12-19 22:26:22|    0|rJ3CASyRfG-7ZviCB...|  5.0|I hard think luxu...|     0|         3.93|              9|              1|               9|             2|              0|              3|              5|                0|               9|                 2|                9| 206|2010,2011,2012|  17|qewG3X2O4X6JKskxy...|  181|   Monera|         266|   510|2007-06-04 01:37:45|\n",
      "|--0DrQkM0FT-yCQRW...|h-lRhCfPhnVTkcndG...|   0|2012-10-15 05:59:48|    0|sbyLKt3fMR7FXbs4U...|  1.0|dinner price too ...|     0|         2.94|              1|              0|               1|             0|              0|              0|              0|                0|               0|                 0|                2|   7|              |   0|5Dg5-7AQTkDYXNf7h...|   10|    Jimmy|          25|    37|2007-11-13 15:57:53|\n",
      "|--0FNOzZkEQlz8WzS...|3Lthn3TIE-_boAtVv...|   1|2016-05-07 02:27:47|    1|_v3MO0VMfoJuETgxk...|  5.0|This has to be he...|     1|          5.0|              0|              0|               0|             0|              0|              0|              0|                0|               0|                 0|                0|   1|              |   0|y9uVys-HkN5qgVEQW...|    1|Shaiqiyah|           2|     1|2014-02-23 13:44:58|\n",
      "|--0nrvOSAIuhL1Tk4...|mJ_THREGbgGRWshvt...|   0|2017-05-14 22:09:16|    0|cqwJT_nWB1_h4xUFy...|  5.0|You know when you...|     0|         3.67|              0|              0|               0|             0|              0|              0|              0|                0|               0|                 0|                0|   0|              |   0|                None|    0|      Ted|           3|     0|2015-10-15 22:41:30|\n",
      "|--0nrvOSAIuhL1Tk4...|zCELc_Vqc0EbnTwbk...|   0|2020-11-20 13:06:20|    0|Y3I7TWAEoEEB-r_ya...|  5.0|Best Chinese for ...|     0|         3.67|              0|              0|               0|             0|              0|              0|              0|                0|               0|                 0|                0|   0|              |   0|                None|    0|      Ted|           3|     0|2015-10-15 22:41:30|\n",
      "+--------------------+--------------------+----+-------------------+-----+--------------------+-----+--------------------+------+-------------+---------------+---------------+----------------+--------------+---------------+---------------+---------------+-----------------+----------------+------------------+-----------------+----+--------------+----+--------------------+-----+---------+------------+------+-------------------+\n",
      "only showing top 5 rows\n",
      "\n"
     ]
    }
   ],
   "source": [
    "\n",
    "\n",
    "\n",
    "user_and_reviews_df = review_df.join(user_df, on=\"user_id\", how=\"inner\")\n",
    "user_and_reviews_df.show(5)"
   ]
  },
  {
   "cell_type": "code",
   "execution_count": 31,
   "id": "bf098525",
   "metadata": {},
   "outputs": [
    {
     "name": "stdout",
     "output_type": "stream",
     "text": [
      "root\n",
      " |-- user_id: string (nullable = true)\n",
      " |-- business_id: string (nullable = true)\n",
      " |-- cool: long (nullable = true)\n",
      " |-- date: string (nullable = true)\n",
      " |-- funny: long (nullable = true)\n",
      " |-- review_id: string (nullable = true)\n",
      " |-- stars: double (nullable = true)\n",
      " |-- text: string (nullable = true)\n",
      " |-- useful: long (nullable = true)\n",
      " |-- average_stars: double (nullable = true)\n",
      " |-- compliment_cool: long (nullable = true)\n",
      " |-- compliment_cute: long (nullable = true)\n",
      " |-- compliment_funny: long (nullable = true)\n",
      " |-- compliment_hot: long (nullable = true)\n",
      " |-- compliment_list: long (nullable = true)\n",
      " |-- compliment_more: long (nullable = true)\n",
      " |-- compliment_note: long (nullable = true)\n",
      " |-- compliment_photos: long (nullable = true)\n",
      " |-- compliment_plain: long (nullable = true)\n",
      " |-- compliment_profile: long (nullable = true)\n",
      " |-- compliment_writer: long (nullable = true)\n",
      " |-- cool: long (nullable = true)\n",
      " |-- elite: string (nullable = true)\n",
      " |-- fans: long (nullable = true)\n",
      " |-- friends: string (nullable = true)\n",
      " |-- funny: long (nullable = true)\n",
      " |-- name: string (nullable = true)\n",
      " |-- review_count: long (nullable = true)\n",
      " |-- useful: long (nullable = true)\n",
      " |-- yelping_since: string (nullable = true)\n",
      "\n"
     ]
    }
   ],
   "source": [
    "user_and_reviews_df.printSchema()"
   ]
  },
  {
   "cell_type": "markdown",
   "id": "4791b940",
   "metadata": {},
   "source": [
    "# Joining User, business and reviews dataframes"
   ]
  },
  {
   "cell_type": "code",
   "execution_count": 10,
   "id": "e570eb42",
   "metadata": {},
   "outputs": [],
   "source": [
    "user_businesss_reviews_df = user_and_reviews_df.join(business_df, on=\"business_id\", how=\"inner\")"
   ]
  },
  {
   "cell_type": "markdown",
   "id": "f3679600",
   "metadata": {},
   "source": [
    "# 3 star reviews data ingestion \n"
   ]
  },
  {
   "cell_type": "code",
   "execution_count": 16,
   "id": "192a708e",
   "metadata": {},
   "outputs": [],
   "source": [
    "three_star_reviews_df = business_and_reviews_df.select(\n",
    "    col(\"bus.business_id\"), col(\"rev.review_id\"), col(\"bus.city\"), col(\"rev.stars\")\n",
    ")"
   ]
  },
  {
   "cell_type": "code",
   "execution_count": 17,
   "id": "ce8f35ca",
   "metadata": {},
   "outputs": [
    {
     "name": "stdout",
     "output_type": "stream",
     "text": [
      "+--------------------+--------------------+-------------+-----+\n",
      "|         business_id|           review_id|         city|stars|\n",
      "+--------------------+--------------------+-------------+-----+\n",
      "|XQfwVwDr-v0ZS3_Cb...|KU_O5udG6zpxOg-Vc...|  North Wales|  3.0|\n",
      "|7ATYjTIgM3jUlt4UM...|BiTunyQ73aT9WBnpR...| Philadelphia|  5.0|\n",
      "|YjUWPpI6HXG530lwP...|saUsX_uimxRlCVr67...|       Tucson|  3.0|\n",
      "|kxX2SOes4o-D3ZQBk...|AqPFMleE6RsU23_au...| Philadelphia|  5.0|\n",
      "|e4Vwtrqf-wpJfwesg...|Sx8TMOWLNuJBWer-0...|  New Orleans|  4.0|\n",
      "|04UD14gamNjLY0IDY...|JrIxlS1TzJ-iCu79u...| Philadelphia|  1.0|\n",
      "|gmjsEdUsKpj9Xxu6p...|6AxgBCNX_PNTOxmbR...|  New Orleans|  5.0|\n",
      "|LHSTtnW3YHCeUkRDG...|_ZeMknuYdlQcUqng_...|   Quakertown|  5.0|\n",
      "|B5XSoSG3SfvQGtKEG...|ZKvDG2sBvHVdF5oBN...|Santa Barbara|  3.0|\n",
      "|gebiRewfieSdtt17P...|pUycOfUwM8vqX7KjR...|Santa Barbara|  3.0|\n",
      "|uMvVYRgGNXf5boolA...|rGQRf8UafX7OTlMNN...|        Tampa|  5.0|\n",
      "|EQ-TZ2eeD_E0BHuvo...|l3Wk_mvAog6XANIuG...| Indianapolis|  4.0|\n",
      "|lj-E32x9_FA7GmUrB...|XW_LfMv0fV21l9c6x...|     St Louis|  4.0|\n",
      "|RZtGWDLCAtuipwaZ-...|8JFGBuHMoiNDyfcxu...| Philadelphia|  4.0|\n",
      "|otQS34_MymijPTdNB...|UBp0zWyH60Hmw6Fsa...|       Tucson|  4.0|\n",
      "|BVndHaLihEYbr76Z0...|OAhBYw8IQ6wlfw1ow...|        Tampa|  5.0|\n",
      "|YtSqYv1Q_pOltsVPS...|oyaMhzBSwfGgemSGu...| Philadelphia|  5.0|\n",
      "|rBdG_23USc7DletfZ...|LnGZB0fjfgeVDVz5I...|  Saint Louis|  4.0|\n",
      "|CLEWowfkj-wKYJlQD...|u2vzZaOqJ2feRshaa...|        Tampa|  5.0|\n",
      "|eFvzHawVJofxSnD7T...|Xs8Z8lmKkosqW5mw_...| Philadelphia|  5.0|\n",
      "+--------------------+--------------------+-------------+-----+\n",
      "only showing top 20 rows\n",
      "\n"
     ]
    }
   ],
   "source": [
    "three_star_reviews_df.show()"
   ]
  },
  {
   "cell_type": "code",
   "execution_count": 18,
   "id": "6f118689",
   "metadata": {},
   "outputs": [],
   "source": [
    "three_star_reviews_df.write.format(\"org.apache.spark.sql.cassandra\").options(\n",
    "    table=\"three_star_reviews\", keyspace=\"yelp\"\n",
    ").mode(\"append\").save()"
   ]
  },
  {
   "cell_type": "markdown",
   "id": "2f13b06a",
   "metadata": {},
   "source": [
    "# 5 star reviews posted in a certain year ingestion"
   ]
  },
  {
   "cell_type": "code",
   "execution_count": 19,
   "id": "d9c0dacd",
   "metadata": {},
   "outputs": [],
   "source": [
    "reviews_and_date_dataframe = business_and_reviews_df.select(\n",
    "    col(\"bus.business_id\"), col(\"rev.review_id\"), col(\"rev.date\"), col(\"rev.stars\")\n",
    ")"
   ]
  },
  {
   "cell_type": "code",
   "execution_count": 20,
   "id": "19256257",
   "metadata": {},
   "outputs": [
    {
     "name": "stdout",
     "output_type": "stream",
     "text": [
      "+--------------------+--------------------+-------------------+-----+\n",
      "|         business_id|           review_id|               date|stars|\n",
      "+--------------------+--------------------+-------------------+-----+\n",
      "|XQfwVwDr-v0ZS3_Cb...|KU_O5udG6zpxOg-Vc...|2018-07-07 22:09:11|  3.0|\n",
      "|7ATYjTIgM3jUlt4UM...|BiTunyQ73aT9WBnpR...|2012-01-03 15:28:18|  5.0|\n",
      "|YjUWPpI6HXG530lwP...|saUsX_uimxRlCVr67...|2014-02-05 20:30:30|  3.0|\n",
      "|kxX2SOes4o-D3ZQBk...|AqPFMleE6RsU23_au...|2015-01-04 00:01:03|  5.0|\n",
      "|e4Vwtrqf-wpJfwesg...|Sx8TMOWLNuJBWer-0...|2017-01-14 20:54:15|  4.0|\n",
      "|04UD14gamNjLY0IDY...|JrIxlS1TzJ-iCu79u...|2015-09-23 23:10:31|  1.0|\n",
      "|gmjsEdUsKpj9Xxu6p...|6AxgBCNX_PNTOxmbR...|2015-01-03 23:21:18|  5.0|\n",
      "|LHSTtnW3YHCeUkRDG...|_ZeMknuYdlQcUqng_...|2015-08-07 02:29:16|  5.0|\n",
      "|B5XSoSG3SfvQGtKEG...|ZKvDG2sBvHVdF5oBN...|2016-03-30 22:46:33|  3.0|\n",
      "|gebiRewfieSdtt17P...|pUycOfUwM8vqX7KjR...|2016-07-25 07:31:06|  3.0|\n",
      "|uMvVYRgGNXf5boolA...|rGQRf8UafX7OTlMNN...|2015-06-21 14:48:06|  5.0|\n",
      "|EQ-TZ2eeD_E0BHuvo...|l3Wk_mvAog6XANIuG...|2015-08-19 14:31:45|  4.0|\n",
      "|lj-E32x9_FA7GmUrB...|XW_LfMv0fV21l9c6x...|2014-06-27 22:44:01|  4.0|\n",
      "|RZtGWDLCAtuipwaZ-...|8JFGBuHMoiNDyfcxu...|2009-10-14 19:57:14|  4.0|\n",
      "|otQS34_MymijPTdNB...|UBp0zWyH60Hmw6Fsa...|2011-10-27 17:12:05|  4.0|\n",
      "|BVndHaLihEYbr76Z0...|OAhBYw8IQ6wlfw1ow...|2014-10-11 16:22:06|  5.0|\n",
      "|YtSqYv1Q_pOltsVPS...|oyaMhzBSwfGgemSGu...|2013-06-24 11:21:25|  5.0|\n",
      "|rBdG_23USc7DletfZ...|LnGZB0fjfgeVDVz5I...|2014-08-10 19:41:43|  4.0|\n",
      "|CLEWowfkj-wKYJlQD...|u2vzZaOqJ2feRshaa...|2016-03-07 00:02:18|  5.0|\n",
      "|eFvzHawVJofxSnD7T...|Xs8Z8lmKkosqW5mw_...|2014-11-12 15:30:27|  5.0|\n",
      "+--------------------+--------------------+-------------------+-----+\n",
      "only showing top 20 rows\n",
      "\n"
     ]
    }
   ],
   "source": [
    "reviews_and_date_dataframe.show()"
   ]
  },
  {
   "cell_type": "code",
   "execution_count": 24,
   "id": "211a0a9c",
   "metadata": {},
   "outputs": [
    {
     "name": "stdout",
     "output_type": "stream",
     "text": [
      "root\n",
      " |-- business_id: string (nullable = true)\n",
      " |-- review_id: string (nullable = true)\n",
      " |-- date: date (nullable = true)\n",
      " |-- stars: double (nullable = true)\n",
      "\n"
     ]
    }
   ],
   "source": [
    "reviews_and_date_dataframe.printSchema()"
   ]
  },
  {
   "cell_type": "code",
   "execution_count": null,
   "id": "4bf30046",
   "metadata": {},
   "outputs": [],
   "source": [
    "reviews_and_date_dataframe = reviews_and_date_dataframe.withColumn(\"date\", col(\"rev.date\").cast(\"date\"))"
   ]
  },
  {
   "cell_type": "code",
   "execution_count": 29,
   "id": "e11541c5",
   "metadata": {},
   "outputs": [],
   "source": [
    "reviews_and_date_dataframe.write.format(\"org.apache.spark.sql.cassandra\").options(\n",
    "    table=\"reviews_by_year\", keyspace=\"yelp\"\n",
    ").mode(\"append\").save()"
   ]
  },
  {
   "cell_type": "markdown",
   "id": "02c46f77",
   "metadata": {},
   "source": [
    "# Users from a ceratin year that have posted X ammount of reviews"
   ]
  },
  {
   "cell_type": "code",
   "execution_count": 32,
   "id": "196e953f",
   "metadata": {},
   "outputs": [],
   "source": [
    "user_yelping_since_df = user_and_reviews_df.select(\n",
    "    col(\"usr.user_id\"),col(\"rev.review_id\"), col(\"usr.yelping_since\"), col(\"usr.review_count\")\n",
    ")"
   ]
  },
  {
   "cell_type": "code",
   "execution_count": 33,
   "id": "371a0380",
   "metadata": {},
   "outputs": [],
   "source": [
    "user_yelping_since_df.write.format(\"org.apache.spark.sql.cassandra\").options(\n",
    "    table=\"users_with_reviews_yelping_since\", keyspace=\"yelp\"\n",
    ").mode(\"append\").save()"
   ]
  },
  {
   "cell_type": "markdown",
   "id": "5a225943",
   "metadata": {},
   "source": [
    "# Business reviews by city"
   ]
  },
  {
   "cell_type": "code",
   "execution_count": 34,
   "id": "494d6064",
   "metadata": {},
   "outputs": [],
   "source": [
    "business_reviews_ordered_by_city_df = business_and_reviews_df.select(\n",
    "    col(\"bus.business_id\"), col(\"bus.city\"), col(\"rev.review_id\")\n",
    ").orderBy(col(\"bus.city\").asc())"
   ]
  },
  {
   "cell_type": "code",
   "execution_count": 36,
   "id": "119f4070",
   "metadata": {},
   "outputs": [],
   "source": [
    "business_reviews_ordered_by_city_df.write.format(\n",
    "    \"org.apache.spark.sql.cassandra\"\n",
    ").options(table=\"business_reviews_by_city\", keyspace=\"yelp\").mode(\"append\").save()"
   ]
  },
  {
   "cell_type": "markdown",
   "id": "311103e9",
   "metadata": {},
   "source": [
    "# Average word count on review by business "
   ]
  },
  {
   "cell_type": "code",
   "execution_count": 41,
   "id": "39755971",
   "metadata": {},
   "outputs": [],
   "source": [
    "average_word_count_on_review_by_business_df = (\n",
    "    business_and_reviews_df.select(\n",
    "        col(\"bus.business_id\"),\n",
    "        size(split(col(\"rev.text\").cast(\"string\"), \"\\\\s+\")).alias(\"word_count\"),\n",
    "    )\n",
    "    .groupBy(\"bus.business_id\")\n",
    "    .agg(avg(\"word_count\").alias(\"average_word_count\"))\n",
    ")"
   ]
  },
  {
   "cell_type": "code",
   "execution_count": 43,
   "id": "35602a7b",
   "metadata": {},
   "outputs": [
    {
     "name": "stdout",
     "output_type": "stream",
     "text": [
      "+--------------------+------------------+\n",
      "|         business_id|average_word_count|\n",
      "+--------------------+------------------+\n",
      "|WKMJwqnfZKsAae75R...|           149.625|\n",
      "|sk2lZI4zmuGAccd3D...|113.66666666666667|\n",
      "|zJErbOQMKX-MwHs_u...|154.54504504504504|\n",
      "|NQhyMw8SOU1HB-V9X...|             154.1|\n",
      "|neL2xrin-uMJl5ABK...|             234.0|\n",
      "+--------------------+------------------+\n",
      "only showing top 5 rows\n",
      "\n"
     ]
    }
   ],
   "source": [
    "average_word_count_on_review_by_business_df.show(5)"
   ]
  },
  {
   "cell_type": "code",
   "execution_count": 46,
   "id": "cca4e085",
   "metadata": {},
   "outputs": [],
   "source": [
    "average_word_count_on_review_by_business_df = average_word_count_on_review_by_business_df.withColumnRenamed(\n",
    "    \"average_word_count\", \"average_word_count_on_review\"\n",
    ")"
   ]
  },
  {
   "cell_type": "code",
   "execution_count": 47,
   "id": "83a7456a",
   "metadata": {},
   "outputs": [],
   "source": [
    "average_word_count_on_review_by_business_df.write.format(\n",
    "    \"org.apache.spark.sql.cassandra\"\n",
    ").options(table=\"average_words_on_review_for_a_business\", keyspace=\"yelp\").mode(\n",
    "    \"append\"\n",
    ").save()"
   ]
  },
  {
   "cell_type": "markdown",
   "id": "7888f36b",
   "metadata": {},
   "source": [
    "# Number of categories in a business and average stars by business "
   ]
  },
  {
   "cell_type": "code",
   "execution_count": null,
   "id": "93b80578",
   "metadata": {},
   "outputs": [],
   "source": [
    "number_of_categories_and_average_stars_by_business_df = business_df.select(\n",
    "    col(\"business_id\"), \n",
    "    size(split(col(\"categories\"), \"\\\\s*,\\\\s*\")).alias(\"number_of_categories\"),\n",
    "    col(\"stars\").alias(\"average_stars\")\n",
    "    ) \n"
   ]
  },
  {
   "cell_type": "code",
   "execution_count": 51,
   "id": "4559dd3f",
   "metadata": {},
   "outputs": [
    {
     "name": "stdout",
     "output_type": "stream",
     "text": [
      "+--------------------+--------------------+-------------+\n",
      "|         business_id|number_of_categories|average_stars|\n",
      "+--------------------+--------------------+-------------+\n",
      "|Pns2l4eNsfO8kk83d...|                   6|          5.0|\n",
      "|mpf3x-BjTdTEA3yCZ...|                   5|          3.0|\n",
      "|tUFrWirKiKi_TAnsV...|                   6|          3.5|\n",
      "|MTSW4McQd7CbVtyjq...|                   5|          4.0|\n",
      "|mWMc6_wTdE0EUBKIG...|                   3|          4.5|\n",
      "+--------------------+--------------------+-------------+\n",
      "only showing top 5 rows\n",
      "\n"
     ]
    }
   ],
   "source": [
    "number_of_categories_and_average_stars_by_business_df.show(5)"
   ]
  },
  {
   "cell_type": "code",
   "execution_count": 52,
   "id": "d253e01f",
   "metadata": {},
   "outputs": [],
   "source": [
    "number_of_categories_and_average_stars_by_business_df.write.format(\n",
    "    \"org.apache.spark.sql.cassandra\"\n",
    ").options(\n",
    "    table=\"number_of_categories_and_average_stars_by_business\", keyspace=\"yelp\"\n",
    ").mode(\n",
    "    \"append\"\n",
    ").save()"
   ]
  },
  {
   "cell_type": "markdown",
   "id": "c8311084",
   "metadata": {},
   "source": [
    "# Reviews by star count"
   ]
  },
  {
   "cell_type": "code",
   "execution_count": 57,
   "id": "1e13d940",
   "metadata": {},
   "outputs": [],
   "source": [
    "reviews_by_stars_df = (\n",
    "    review_df.select(col(\"stars\"), col(\"review_id\").alias(\"number_of_reviews\"))\n",
    "    .groupBy(\"stars\")\n",
    "    .agg(count(\"number_of_reviews\").alias(\"number_of_reviews\"))\n",
    ")"
   ]
  },
  {
   "cell_type": "code",
   "execution_count": 58,
   "id": "c4565047",
   "metadata": {},
   "outputs": [
    {
     "name": "stdout",
     "output_type": "stream",
     "text": [
      "+-----+-----------------+\n",
      "|stars|number_of_reviews|\n",
      "+-----+-----------------+\n",
      "|  1.0|          1069561|\n",
      "|  4.0|          1452918|\n",
      "|  3.0|           691934|\n",
      "|  2.0|           544240|\n",
      "|  5.0|          3231627|\n",
      "+-----+-----------------+\n",
      "\n"
     ]
    }
   ],
   "source": [
    "reviews_by_stars_df.show(5)"
   ]
  },
  {
   "cell_type": "code",
   "execution_count": 59,
   "id": "8e455a47",
   "metadata": {},
   "outputs": [],
   "source": [
    "reviews_by_stars_df.write.format(\"org.apache.spark.sql.cassandra\").options(\n",
    "    table=\"reviews_by_star\", keyspace=\"yelp\"\n",
    ").mode(\"append\").save()"
   ]
  },
  {
   "cell_type": "markdown",
   "id": "5f1e1c45",
   "metadata": {},
   "source": [
    "# Top categories by rating for each city \n"
   ]
  },
  {
   "cell_type": "code",
   "execution_count": 72,
   "id": "c15f5300",
   "metadata": {},
   "outputs": [
    {
     "name": "stdout",
     "output_type": "stream",
     "text": [
      "+-----------------+-------------------------+--------------+\n",
      "|city             |category                 |average_rating|\n",
      "+-----------------+-------------------------+--------------+\n",
      "|AB Edmonton      |Beauty & Spas            |4.5           |\n",
      "|AB Edmonton      |Hair Salons              |4.5           |\n",
      "|AMBLER           |Beauty & Spas            |3.0           |\n",
      "|AMBLER           |Hair Salons              |3.0           |\n",
      "|AMBLER           |Cosmetics & Beauty Supply|3.0           |\n",
      "|ARDMORE          |Auto Parts & Supplies    |3.0           |\n",
      "|ARDMORE          |DIY Auto Shop            |3.0           |\n",
      "|ARDMORE          |Automotive               |3.0           |\n",
      "|AVON             |Pretzels                 |3.5           |\n",
      "|AVON             |Food                     |3.5           |\n",
      "|AVON             |Donuts                   |3.5           |\n",
      "|Abington         |Laundry Services         |5.0           |\n",
      "|Abington         |Dry Cleaning & Laundry   |5.0           |\n",
      "|Abington         |Towing                   |5.0           |\n",
      "|Abington Township|Active Life              |4.5           |\n",
      "|Abington Township|Fishing                  |4.5           |\n",
      "|Abington Township|Parks                    |4.5           |\n",
      "|Affton           |Web Design               |5.0           |\n",
      "|Affton           |Shared Office Spaces     |5.0           |\n",
      "|Affton           |Real Estate              |5.0           |\n",
      "+-----------------+-------------------------+--------------+\n",
      "only showing top 20 rows\n",
      "\n"
     ]
    }
   ],
   "source": [
    "category_avg_df = (\n",
    "    business_df.select(\n",
    "        col(\"business_id\"),\n",
    "        col(\"city\"),\n",
    "        explode(split(col(\"categories\"), \"\\\\s*,\\\\s*\")).alias(\"category\"),\n",
    "        col(\"stars\"),\n",
    "    )\n",
    "    .select(\n",
    "        col(\"business_id\"),\n",
    "        col(\"city\"),\n",
    "        trim(col(\"category\")).alias(\"category\"),\n",
    "        col(\"stars\"),\n",
    "    )\n",
    "    .groupBy(\"city\", \"category\")\n",
    "    .agg(avg(\"stars\").alias(\"average_rating\"))\n",
    ")\n",
    "\n",
    "\n",
    "window_spec = Window.partitionBy(\"city\").orderBy(col(\"average_rating\").desc())\n",
    "\n",
    "top_categories_df = (\n",
    "    category_avg_df.withColumn(\"rank\", row_number().over(window_spec))\n",
    "    .filter(col(\"rank\") <= 3)\n",
    "    .select(\"city\", \"category\", \"average_rating\")\n",
    ")\n",
    "\n",
    "# Show result\n",
    "top_categories_df.show(truncate=False)"
   ]
  },
  {
   "cell_type": "code",
   "execution_count": 73,
   "id": "99b9ce76",
   "metadata": {},
   "outputs": [],
   "source": [
    "top_categories_df.write.format(\"org.apache.spark.sql.cassandra\").options(\n",
    "    table=\"top_categoreies_by_city\", keyspace=\"yelp\"\n",
    ").mode(\"append\").save()"
   ]
  },
  {
   "cell_type": "markdown",
   "id": "a18e231d",
   "metadata": {},
   "source": [
    "# User statistics (number of reviewed businesses, number of unique categories reviewd, average usefull votes for category)"
   ]
  },
  {
   "cell_type": "code",
   "execution_count": 11,
   "id": "48a0a76f",
   "metadata": {},
   "outputs": [
    {
     "name": "stdout",
     "output_type": "stream",
     "text": [
      "+--------------------+-----------------------------+\n",
      "|             user_id|number_of_reviewed_categories|\n",
      "+--------------------+-----------------------------+\n",
      "|---1lKK3aKOuomHnw...|                           11|\n",
      "|--0DrQkM0FT-yCQRW...|                            2|\n",
      "|--0FNOzZkEQlz8WzS...|                            7|\n",
      "|--0nrvOSAIuhL1Tk4...|                            8|\n",
      "|--1FFSF8N5TtSfzH7...|                            4|\n",
      "+--------------------+-----------------------------+\n",
      "only showing top 5 rows\n",
      "\n"
     ]
    }
   ],
   "source": [
    "user_categories_df = (\n",
    "    user_businesss_reviews_df.select(\n",
    "        col(\"usr.user_id\"),\n",
    "        explode(split(col(\"bus.categories\"), \"\\\\s*,\\\\s*\")).alias(\"category\"),\n",
    "    )\n",
    "    .select(col(\"user_id\"), trim(col(\"category\")).alias(\"category\"))\n",
    "    .dropna()\n",
    "    .groupBy(\"user_id\")\n",
    "    .agg(countDistinct(\"category\").alias(\"number_of_reviewed_categories\"))\n",
    ")\n",
    "\n",
    "user_categories_df.show(5)"
   ]
  },
  {
   "cell_type": "code",
   "execution_count": 12,
   "id": "e3d2c2f1",
   "metadata": {},
   "outputs": [
    {
     "name": "stdout",
     "output_type": "stream",
     "text": [
      "+--------------------+--------------------+----+-------------------+-----+--------------------+-----+--------------------+------+-------------+---------------+---------------+----------------+--------------+---------------+---------------+---------------+-----------------+----------------+------------------+-----------------+----+--------------+----+--------------------+-----+---------+------------+------+-------------------+--------------------+--------------------+--------------------+---------+--------------------+-------+-------------+--------------+--------------------+-----------+------------+-----+-----+-----------------------------+\n",
      "|             user_id|         business_id|cool|               date|funny|           review_id|stars|                text|useful|average_stars|compliment_cool|compliment_cute|compliment_funny|compliment_hot|compliment_list|compliment_more|compliment_note|compliment_photos|compliment_plain|compliment_profile|compliment_writer|cool|         elite|fans|             friends|funny|     name|review_count|useful|      yelping_since|             address|          attributes|          categories|     city|               hours|is_open|     latitude|     longitude|                name|postal_code|review_count|stars|state|number_of_reviewed_categories|\n",
      "+--------------------+--------------------+----+-------------------+-----+--------------------+-----+--------------------+------+-------------+---------------+---------------+----------------+--------------+---------------+---------------+---------------+-----------------+----------------+------------------+-----------------+----+--------------+----+--------------------+-----+---------+------------+------+-------------------+--------------------+--------------------+--------------------+---------+--------------------+-------+-------------+--------------+--------------------+-----------+------------+-----+-----+-----------------------------+\n",
      "|---1lKK3aKOuomHnw...|f19eLfhXqR47Ct8Hz...|   0|2018-12-19 22:26:22|    0|rJ3CASyRfG-7ZviCB...|  5.0|I hard think luxu...|     0|         3.93|              9|              1|               9|             2|              0|              3|              5|                0|               9|                 2|                9| 206|2010,2011,2012|  17|qewG3X2O4X6JKskxy...|  181|   Monera|         266|   510|2007-06-04 01:37:45|      560 E Plumb Ln|{False, NULL, NUL...|Doctors, Active L...|     Reno|{8:0-18:30, 0:0-0...|      1|   39.5054001|  -119.7946262|         Healing One|      89503|          49|  5.0|   NV|                           11|\n",
      "|--0DrQkM0FT-yCQRW...|h-lRhCfPhnVTkcndG...|   0|2012-10-15 05:59:48|    0|sbyLKt3fMR7FXbs4U...|  1.0|dinner price too ...|     0|         2.94|              1|              0|               1|             0|              0|              0|              0|                0|               0|                 0|                2|   7|              |   0|5Dg5-7AQTkDYXNf7h...|   10|    Jimmy|          25|    37|2007-11-13 15:57:53|8700 W Judge Pere...|{NULL, NULL, u'fu...|Chinese, Restaurants|Chalmette|{10:30-22:0, 10:3...|      1|   29.9500201|   -89.9744921|             Hot Wok|      70043|          49|  3.0|   LA|                            2|\n",
      "|--0FNOzZkEQlz8WzS...|3Lthn3TIE-_boAtVv...|   1|2016-05-07 02:27:47|    1|_v3MO0VMfoJuETgxk...|  5.0|This has to be he...|     1|          5.0|              0|              0|               0|             0|              0|              0|              0|                0|               0|                 0|                0|   1|              |   0|y9uVys-HkN5qgVEQW...|    1|Shaiqiyah|           2|     1|2014-02-23 13:44:58|      3940 Barron St|{NULL, NULL, NULL...|Ethnic Food, Inte...| Metairie|{9:0-19:0, 9:0-19...|      1|    30.002095|   -90.1739284|International Market|      70002|          55|  4.0|   LA|                            7|\n",
      "|--0nrvOSAIuhL1Tk4...|mJ_THREGbgGRWshvt...|   0|2017-05-14 22:09:16|    0|cqwJT_nWB1_h4xUFy...|  5.0|You know when you...|     0|         3.67|              0|              0|               0|             0|              0|              0|              0|                0|               0|                 0|                0|   0|              |   0|                None|    0|      Ted|           3|     0|2015-10-15 22:41:30|     4 Lakeview Dr S|{NULL, NULL, u'fu...|Steakhouses, Rest...|Gibbsboro|{11:0-20:0, 0:0-0...|      1|  39.84072524|   -74.9614727|       The ChopHouse|      08026|         256|  4.0|   NJ|                            8|\n",
      "|--0nrvOSAIuhL1Tk4...|zCELc_Vqc0EbnTwbk...|   0|2020-11-20 13:06:20|    0|Y3I7TWAEoEEB-r_ya...|  5.0|Best Chinese for ...|     0|         3.67|              0|              0|               0|             0|              0|              0|              0|                0|               0|                 0|                0|   0|              |   0|                None|    0|      Ted|           3|     0|2015-10-15 22:41:30|         145 Rt 73 S|{NULL, NULL, u'no...|Chinese, Restaurants|  Marlton|{11:0-22:30, NULL...|      1|39.8906210437|-74.9274950521|Joe's Peking Duck...|      08053|         274|  4.0|   NJ|                            8|\n",
      "+--------------------+--------------------+----+-------------------+-----+--------------------+-----+--------------------+------+-------------+---------------+---------------+----------------+--------------+---------------+---------------+---------------+-----------------+----------------+------------------+-----------------+----+--------------+----+--------------------+-----+---------+------------+------+-------------------+--------------------+--------------------+--------------------+---------+--------------------+-------+-------------+--------------+--------------------+-----------+------------+-----+-----+-----------------------------+\n",
      "only showing top 5 rows\n",
      "\n"
     ]
    }
   ],
   "source": [
    "user_statistics_df = user_businesss_reviews_df.join(user_categories_df, on=\"user_id\", how=\"right\")\n",
    "\n",
    "user_statistics_df.show(5)"
   ]
  },
  {
   "cell_type": "code",
   "execution_count": 13,
   "id": "8e72eddc",
   "metadata": {},
   "outputs": [],
   "source": [
    "user_statistics_df = user_statistics_df.select(\n",
    "    col(\"usr.user_id\"),\n",
    "    col(\"usr.review_count\"),\n",
    "    col(\"number_of_reviewed_categories\"),\n",
    "    col(\"usr.useful\").alias(\"number_of_useful_reviews\"),\n",
    ")"
   ]
  },
  {
   "cell_type": "code",
   "execution_count": 21,
   "id": "c0b4dacc",
   "metadata": {},
   "outputs": [
    {
     "name": "stdout",
     "output_type": "stream",
     "text": [
      "+--------------------+------------+-----------------------------+------------------------+\n",
      "|             user_id|review_count|number_of_reviewed_categories|number_of_useful_reviews|\n",
      "+--------------------+------------+-----------------------------+------------------------+\n",
      "|--5EJ-TYQgbeViSGY...|           1|                            6|                       0|\n",
      "|--5_3gs0f24DZ7N2P...|           2|                           10|                       1|\n",
      "|--6RLpoufvX9f5gQs...|          13|                            2|                      10|\n",
      "|--6lqYpHZCBbpW5z2...|           9|                            5|                       5|\n",
      "|--8r3pNaZiG1fN8LC...|          25|                           29|                      13|\n",
      "+--------------------+------------+-----------------------------+------------------------+\n",
      "only showing top 5 rows\n",
      "\n"
     ]
    }
   ],
   "source": [
    "user_statistics_df.show(5)"
   ]
  },
  {
   "cell_type": "code",
   "execution_count": 14,
   "id": "f07fcc11",
   "metadata": {},
   "outputs": [],
   "source": [
    "user_statistics_df.write.format(\"org.apache.spark.sql.cassandra\").options(\n",
    "    table=\"user_statistics\", keyspace=\"yelp\"\n",
    ").mode(\"append\").save()"
   ]
  },
  {
   "cell_type": "markdown",
   "id": "5731ccc2",
   "metadata": {},
   "source": [
    "# Review statistics"
   ]
  },
  {
   "cell_type": "code",
   "execution_count": 21,
   "id": "e80c0120",
   "metadata": {},
   "outputs": [],
   "source": [
    "review_statistics_df = (\n",
    "    business_and_reviews_df.select(\n",
    "        col(\"rev.review_id\"),\n",
    "        col(\"rev.stars\").alias(\"stars\"),\n",
    "        col(\"rev.date\").alias(\"date\"),\n",
    "        explode(split(col(\"bus.categories\"), \"\\\\s*,\\\\s*\")).alias(\"category\"),\n",
    "    )\n",
    "    .select(\n",
    "        trim(col(\"category\")).alias(\"category\"),\n",
    "        col(\"review_id\"),\n",
    "        col(\"stars\"),\n",
    "        date_format(col(\"date\"), \"yyyy-MM\").alias(\"year_month\"),\n",
    "    )\n",
    "    .groupBy(\"year_month\", \"category\")\n",
    "    .agg(avg(\"stars\").alias(\"avg_stars\"), count(\"review_id\").alias(\"total_reviews\"))\n",
    "    .orderBy(\"year_month\", \"category\")\n",
    ")"
   ]
  },
  {
   "cell_type": "code",
   "execution_count": 22,
   "id": "f83e35b4",
   "metadata": {},
   "outputs": [
    {
     "name": "stdout",
     "output_type": "stream",
     "text": [
      "+----------+--------------------+---------+-------------+\n",
      "|year_month|            category|avg_stars|total_reviews|\n",
      "+----------+--------------------+---------+-------------+\n",
      "|   2005-02|American (Traditi...|      4.5|            2|\n",
      "|   2005-02|                Bars|      4.0|            1|\n",
      "|   2005-02|               Bikes|      4.0|            1|\n",
      "|   2005-02|        Cheesesteaks|      5.0|            1|\n",
      "|   2005-02|           Fast Food|      5.0|            1|\n",
      "+----------+--------------------+---------+-------------+\n",
      "only showing top 5 rows\n",
      "\n"
     ]
    }
   ],
   "source": [
    "review_statistics_df.show(5)"
   ]
  },
  {
   "cell_type": "code",
   "execution_count": 23,
   "id": "3ce652d5",
   "metadata": {},
   "outputs": [],
   "source": [
    "review_statistics_df.write.format(\"org.apache.spark.sql.cassandra\").options(\n",
    "    table=\"review_statistics\", keyspace=\"yelp\"\n",
    ").mode(\"append\").save()"
   ]
  },
  {
   "cell_type": "markdown",
   "id": "904d6823",
   "metadata": {},
   "source": [
    "# Postgres Ingestion"
   ]
  },
  {
   "cell_type": "code",
   "execution_count": null,
   "id": "baf08b66",
   "metadata": {},
   "outputs": [],
   "source": []
  }
 ],
 "metadata": {
  "kernelspec": {
   "display_name": ".venv",
   "language": "python",
   "name": "python3"
  },
  "language_info": {
   "codemirror_mode": {
    "name": "ipython",
    "version": 3
   },
   "file_extension": ".py",
   "mimetype": "text/x-python",
   "name": "python",
   "nbconvert_exporter": "python",
   "pygments_lexer": "ipython3",
   "version": "3.10.5"
  }
 },
 "nbformat": 4,
 "nbformat_minor": 5
}
